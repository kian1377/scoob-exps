{
 "cells": [
  {
   "cell_type": "code",
   "execution_count": 1,
   "metadata": {},
   "outputs": [
    {
     "name": "stderr",
     "output_type": "stream",
     "text": [
      "/opt/conda/envs/km310env/lib/python3.10/site-packages/cupyx/jit/_interface.py:173: FutureWarning: cupyx.jit.rawkernel is experimental. The interface can change in the future.\n",
      "  cupy._util.experimental('cupyx.jit.rawkernel')\n"
     ]
    }
   ],
   "source": [
    "import numpy as np\n",
    "import astropy.units as u\n",
    "from astropy.io import fits\n",
    "import time \n",
    "from importlib import reload\n",
    "import copy\n",
    "from datetime import datetime\n",
    "today = int(datetime.today().strftime('%Y%m%d'))\n",
    "from IPython.display import clear_output\n",
    "\n",
    "import matplotlib.pyplot as plt\n",
    "from matplotlib.colors import LogNorm\n",
    "from matplotlib.patches import Circle, Rectangle\n",
    "\n",
    "import scoobi\n",
    "from scoobi.math_module import xp, _scipy, ensure_np_array\n",
    "from scoobi.imshows import imshow1, imshow2, imshow3\n",
    "import scoobi.scoobi as scoobi\n",
    "import scoobi.utils as utils\n",
    "\n",
    "import purepyindi\n",
    "from purepyindi import INDIClient\n",
    "import purepyindi2\n",
    "from purepyindi2 import IndiClient\n",
    "\n",
    "client0 = INDIClient('localhost', 7624)\n",
    "client0.start()\n",
    "client = IndiClient()\n",
    "client.connect()\n",
    "client.get_properties()\n",
    "\n",
    "def restart_clients():\n",
    "    client0 = INDIClient('localhost', 7624)\n",
    "    client0.start()\n",
    "\n",
    "    client = IndiClient()\n",
    "    client.connect()\n",
    "    client.get_properties()\n",
    "    "
   ]
  },
  {
   "cell_type": "code",
   "execution_count": 2,
   "metadata": {},
   "outputs": [],
   "source": [
    "reload(scoobi)\n",
    "I = scoobi.SCOOBI(scicam_channel='camsci', dm_channel='dm00disp05')"
   ]
  },
  {
   "cell_type": "code",
   "execution_count": null,
   "metadata": {},
   "outputs": [],
   "source": [
    "I.ref_psf_params = utils.load_pickle(f'../data/iefc/{today}_ref_psf_params.pkl', I.ref_psf_params)\n",
    "print(I.ref_psf_params['Imax'], I.ref_psf_params['texp'], I.ref_psf_params['atten'], I.ref_psf_params['gain'] )\n",
    "\n",
    "iefc_data = utils.load_pickle(f'../data/iefc/{today}_iefc_run.pkl')\n",
    "control_mask = iefc_data['control_mask_2']"
   ]
  },
  {
   "cell_type": "code",
   "execution_count": null,
   "metadata": {},
   "outputs": [],
   "source": [
    "reload(scoobi)\n",
    "from pathlib import Path\n",
    "\n",
    "duration = 1800\n",
    "# duration = 10\n",
    "I.NSCICAM = 20\n",
    "\n",
    "# time.sleep(5)\n",
    "scoobi.stream_scicam(\n",
    "    I, \n",
    "    duration=duration, \n",
    "    control_mask=control_mask, \n",
    "    plot=True, \n",
    "    clear=True, \n",
    "    save_data_to=Path(f'camsci-streams/{today}_ims_without_llowfsc.fits'),\n",
    ")"
   ]
  },
  {
   "cell_type": "code",
   "execution_count": null,
   "metadata": {},
   "outputs": [],
   "source": []
  },
  {
   "cell_type": "code",
   "execution_count": null,
   "metadata": {},
   "outputs": [],
   "source": []
  }
 ],
 "metadata": {
  "kernelspec": {
   "display_name": "km310env",
   "language": "python",
   "name": "python3"
  },
  "language_info": {
   "codemirror_mode": {
    "name": "ipython",
    "version": 3
   },
   "file_extension": ".py",
   "mimetype": "text/x-python",
   "name": "python",
   "nbconvert_exporter": "python",
   "pygments_lexer": "ipython3",
   "version": "3.10.14"
  }
 },
 "nbformat": 4,
 "nbformat_minor": 2
}
