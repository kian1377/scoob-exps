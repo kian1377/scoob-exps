{
 "cells": [
  {
   "cell_type": "code",
   "execution_count": 4,
   "metadata": {},
   "outputs": [],
   "source": [
    "import numpy as np\n",
    "import astropy.units as u\n",
    "from astropy.io import fits\n",
    "import time \n",
    "from importlib import reload\n",
    "import copy\n",
    "from datetime import datetime\n",
    "today = int(datetime.today().strftime('%Y%m%d'))\n",
    "from IPython.display import clear_output\n",
    "\n",
    "import matplotlib.pyplot as plt\n",
    "from matplotlib.colors import LogNorm\n",
    "from matplotlib.patches import Circle, Rectangle\n",
    "\n",
    "import scoobi\n",
    "from scoobi.math_module import xp, _scipy, ensure_np_array\n",
    "from scoobi.imshows import imshow1, imshow2, imshow3\n",
    "import scoobi.scoobi as scoobi\n",
    "\n",
    "import lina\n",
    "\n",
    "import purepyindi\n",
    "from purepyindi import INDIClient\n",
    "import purepyindi2\n",
    "from purepyindi2 import IndiClient\n",
    "\n",
    "client0 = INDIClient('localhost', 7624)\n",
    "client0.start()\n",
    "client = IndiClient()\n",
    "client.connect()\n",
    "client.get_properties()\n",
    "\n",
    "def restart_clients():\n",
    "    client0 = INDIClient('localhost', 7624)\n",
    "    client0.start()\n",
    "\n",
    "    client = IndiClient()\n",
    "    client.connect()\n",
    "    client.get_properties()\n",
    "    "
   ]
  },
  {
   "cell_type": "code",
   "execution_count": 5,
   "metadata": {},
   "outputs": [],
   "source": [
    "ref_psf_params = {\n",
    "    'Imax': 40000,\n",
    "    'texp': 120e-6, \n",
    "    'atten': 30,\n",
    "    'gain': 120,\n",
    "}"
   ]
  },
  {
   "cell_type": "code",
   "execution_count": null,
   "metadata": {},
   "outputs": [],
   "source": [
    "dictionary = {'geek': 1, 'supergeek': True, 4: 'geeky'} \n",
    "   \n",
    "geeky_file = open('geekyfile.txt', 'wt') \n",
    "geeky_file.write(str(dictionary)) \n",
    "geeky_file.close() "
   ]
  },
  {
   "cell_type": "code",
   "execution_count": null,
   "metadata": {},
   "outputs": [],
   "source": [
    "    \n",
    "reload(scoobi)\n",
    "I = scoobi.SCOOBI(scicam_channel='camsci', dm_channel='dm00disp05')"
   ]
  },
  {
   "cell_type": "code",
   "execution_count": null,
   "metadata": {},
   "outputs": [],
   "source": [
    "I.Imax_ref = copy.copy(xp.max(ref_psf))\n",
    "I.texp_ref = copy.copy(I.texp)\n",
    "I.att_ref = copy.copy(I.att)\n",
    "I.gain_ref = copy.copy(I.gain)\n",
    "print(I.Imax_ref, I.texp_ref, I.att_ref, I.gain_ref  )"
   ]
  },
  {
   "cell_type": "code",
   "execution_count": null,
   "metadata": {},
   "outputs": [],
   "source": [
    "reload(scoobi)\n",
    "from pathlib import Path\n",
    "\n",
    "duration = 1800\n",
    "# duration = 10\n",
    "I.Nframes = 20\n",
    "\n",
    "# time.sleep(5)\n",
    "scoobi.stream_scicam(I, \n",
    "                     duration=duration, \n",
    "                     control_mask=new_control_mask, \n",
    "                     plot=True, \n",
    "                     clear=True, \n",
    "                     save_data_to=Path(f'camsci-streams/{today}_ims_without_llowfsc.fits'),\n",
    "                     )"
   ]
  },
  {
   "cell_type": "code",
   "execution_count": null,
   "metadata": {},
   "outputs": [],
   "source": []
  },
  {
   "cell_type": "code",
   "execution_count": null,
   "metadata": {},
   "outputs": [],
   "source": []
  }
 ],
 "metadata": {
  "kernelspec": {
   "display_name": "km310env",
   "language": "python",
   "name": "python3"
  },
  "language_info": {
   "codemirror_mode": {
    "name": "ipython",
    "version": 3
   },
   "file_extension": ".py",
   "mimetype": "text/x-python",
   "name": "python",
   "nbconvert_exporter": "python",
   "pygments_lexer": "ipython3",
   "version": "3.10.14"
  }
 },
 "nbformat": 4,
 "nbformat_minor": 2
}
