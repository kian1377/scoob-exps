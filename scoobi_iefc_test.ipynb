{
 "cells": [
  {
   "cell_type": "code",
   "execution_count": 5,
   "metadata": {},
   "outputs": [],
   "source": [
    "import numpy as np\n",
    "import astropy.units as u\n",
    "from astropy.io import fits\n",
    "import time \n",
    "from importlib import reload\n",
    "import copy\n",
    "from datetime import datetime\n",
    "today = int(datetime.today().strftime('%Y%m%d'))\n",
    "from IPython.display import clear_output\n",
    "\n",
    "import matplotlib.pyplot as plt\n",
    "from matplotlib.colors import LogNorm\n",
    "from matplotlib.patches import Circle, Rectangle\n",
    "\n",
    "import scoobi\n",
    "from scoobi.math_module import xp, _scipy, ensure_np_array\n",
    "from scoobi.imshows import imshow1, imshow2, imshow3\n",
    "import scoobi.scoobi as scoobi\n",
    "\n",
    "import lina\n",
    "\n",
    "import purepyindi\n",
    "from purepyindi import INDIClient\n",
    "import purepyindi2\n",
    "from purepyindi2 import IndiClient\n",
    "\n",
    "client0 = INDIClient('localhost', 7624)\n",
    "client0.start()\n",
    "client = IndiClient()\n",
    "client.connect()\n",
    "client.get_properties()\n",
    "\n",
    "def restart_clients():\n",
    "    client0 = INDIClient('localhost', 7624)\n",
    "    client0.start()\n",
    "\n",
    "    client = IndiClient()\n",
    "    client.connect()\n",
    "    client.get_properties()"
   ]
  },
  {
   "cell_type": "code",
   "execution_count": 2,
   "metadata": {},
   "outputs": [],
   "source": [
    "scoobi.home_block(client0)"
   ]
  },
  {
   "cell_type": "code",
   "execution_count": 4,
   "metadata": {},
   "outputs": [],
   "source": [
    "scoobi.move_block_out(client0)"
   ]
  },
  {
   "cell_type": "code",
   "execution_count": 170,
   "metadata": {},
   "outputs": [],
   "source": [
    "reload(scoobi)\n",
    "xc, yc = (4320, 3080)\n",
    "npsf = 256\n",
    "scoobi.set_zwo_roi(xc, yc, npsf, client0)"
   ]
  },
  {
   "cell_type": "code",
   "execution_count": 6,
   "metadata": {},
   "outputs": [],
   "source": [
    "reload(scoobi)\n",
    "I = scoobi.SCOOBI(scicam_channel='camsci', dm_channel='dm00disp05')"
   ]
  },
  {
   "cell_type": "markdown",
   "metadata": {},
   "source": [
    "# Do the normalization"
   ]
  },
  {
   "cell_type": "code",
   "execution_count": 9,
   "metadata": {},
   "outputs": [],
   "source": [
    "scoobi.move_psf(-50, 0, client0)"
   ]
  },
  {
   "cell_type": "code",
   "execution_count": null,
   "metadata": {},
   "outputs": [],
   "source": [
    "reload(scoobi)\n",
    "I.set_zwo_exp_time(0.000120, client0)"
   ]
  },
  {
   "cell_type": "code",
   "execution_count": null,
   "metadata": {},
   "outputs": [],
   "source": [
    "reload(scoobi)\n",
    "I.set_zwo_gain(120, client0)"
   ]
  },
  {
   "cell_type": "code",
   "execution_count": null,
   "metadata": {},
   "outputs": [],
   "source": [
    "reload(scoobi)\n",
    "I.set_fib_atten(30, client)"
   ]
  },
  {
   "cell_type": "code",
   "execution_count": null,
   "metadata": {},
   "outputs": [],
   "source": [
    "I.Nframes = 100\n",
    "ref_psf = I.snap()\n",
    "print(xp.max(ref_psf))\n",
    "imshow1(ref_psf, lognorm=True, vmin=1e2)"
   ]
  },
  {
   "cell_type": "code",
   "execution_count": null,
   "metadata": {},
   "outputs": [],
   "source": [
    "cent = np.flip(skimage.measure.centroid(ensure_np_array(mask*arr)))"
   ]
  },
  {
   "cell_type": "code",
   "execution_count": null,
   "metadata": {},
   "outputs": [],
   "source": [
    "I.Imax_ref = copy.copy(xp.max(ref_psf))\n",
    "I.texp_ref = copy.copy(I.texp)\n",
    "I.att_ref = copy.copy(I.att)\n",
    "I.gain_ref = copy.copy(I.gain)\n",
    "print(I.Imax_ref, I.texp_ref, I.att_ref, I.gain_ref  )"
   ]
  },
  {
   "cell_type": "code",
   "execution_count": 163,
   "metadata": {},
   "outputs": [],
   "source": [
    "I.ref_psf_params = {\n",
    "    'Imax': copy.copy(xp.max(ref_psf)),\n",
    "    'texp': copy.copy(I.texp), \n",
    "    'atten': copy.copy(I.att),\n",
    "    'gain': copy.copy(I.gain),\n",
    "}"
   ]
  },
  {
   "cell_type": "code",
   "execution_count": 11,
   "metadata": {},
   "outputs": [],
   "source": [
    "I.reset_dm()"
   ]
  },
  {
   "cell_type": "code",
   "execution_count": 32,
   "metadata": {},
   "outputs": [],
   "source": [
    "scoobi.move_psf(-2, 0, client0)"
   ]
  },
  {
   "cell_type": "code",
   "execution_count": 25,
   "metadata": {},
   "outputs": [],
   "source": [
    "scoobi.move_psf(0, -2, client0)"
   ]
  },
  {
   "cell_type": "code",
   "execution_count": null,
   "metadata": {},
   "outputs": [],
   "source": [
    "I.set_fib_atten(0, client)"
   ]
  },
  {
   "cell_type": "code",
   "execution_count": null,
   "metadata": {},
   "outputs": [],
   "source": [
    "I.set_zwo_exp_time(0.0003, client0)"
   ]
  },
  {
   "cell_type": "code",
   "execution_count": null,
   "metadata": {},
   "outputs": [],
   "source": [
    "I.set_zwo_gain(120, client0)"
   ]
  },
  {
   "cell_type": "markdown",
   "metadata": {},
   "source": [
    "# Make a function to adjust bias on the camera\n",
    "camsci.blacklevel.target"
   ]
  },
  {
   "cell_type": "code",
   "execution_count": 90,
   "metadata": {},
   "outputs": [],
   "source": [
    "reload(scoobi)\n",
    "scoobi.move_block_in(client0)"
   ]
  },
  {
   "cell_type": "code",
   "execution_count": 96,
   "metadata": {},
   "outputs": [],
   "source": [
    "reload(scoobi)\n",
    "scoobi.move_block_out(client0)"
   ]
  },
  {
   "cell_type": "code",
   "execution_count": null,
   "metadata": {},
   "outputs": [],
   "source": [
    "I.Nframes = 100\n",
    "I.subtract_dark = False\n",
    "I.return_ni = False\n",
    "dark_frame = I.snap()\n",
    "imshow1(dark_frame)\n",
    "\n",
    "I.df = copy.copy(dark_frame)"
   ]
  },
  {
   "cell_type": "code",
   "execution_count": null,
   "metadata": {},
   "outputs": [],
   "source": [
    "reload(scoobi.utils)\n",
    "waffle_command = scoobi.utils.create_fourier_command(x_cpa=17, y_cpa=17) * xp.array(I.dm_mask)\n",
    "imshow1(waffle_command)"
   ]
  },
  {
   "cell_type": "code",
   "execution_count": null,
   "metadata": {},
   "outputs": [],
   "source": [
    "I.set_dm(15e-9 * waffle_command)\n",
    "I.x_shift = 0\n",
    "I.y_shift = 0\n",
    "\n",
    "I.subtract_dark = True\n",
    "I.return_ni = True\n",
    "waffle_im = I.snap()\n",
    "imshow1(waffle_im, lognorm=True, pxscl=I.psf_pixelscale_lamD, grid=True)"
   ]
  },
  {
   "cell_type": "code",
   "execution_count": null,
   "metadata": {},
   "outputs": [],
   "source": [
    "reload(scoobi.utils)\n",
    "\n",
    "xshift,yshift,angle = scoobi.utils.measure_center_and_angle(waffle_im, I.psf_pixelscale_lamD, im_thresh=4e-5, r_thresh=15)"
   ]
  },
  {
   "cell_type": "code",
   "execution_count": null,
   "metadata": {},
   "outputs": [],
   "source": [
    "I.Nframes = 10\n",
    "I.npsf = 150\n",
    "I.x_shift = xshift\n",
    "I.y_shift = yshift\n",
    "\n",
    "I.subtract_dark = True\n",
    "I.return_ni = True\n",
    "\n",
    "coro_im = I.snap()\n",
    "imshow1(coro_im, lognorm=True, pxscl=1, grid=True)"
   ]
  },
  {
   "cell_type": "code",
   "execution_count": 57,
   "metadata": {},
   "outputs": [],
   "source": [
    "I.zero_dm()"
   ]
  },
  {
   "cell_type": "markdown",
   "metadata": {},
   "source": [
    "# Choose modes and probes for iEFC"
   ]
  },
  {
   "cell_type": "code",
   "execution_count": 101,
   "metadata": {},
   "outputs": [],
   "source": [
    "reload(lina.utils)\n",
    "\n",
    "iwa = 2.5\n",
    "owa = 12\n",
    "rotation = 0\n",
    "control_mask = lina.utils.create_annular_focal_plane_mask(I.npsf, I.psf_pixelscale_lamD, iwa, owa, edge=iwa, rotation=rotation)"
   ]
  },
  {
   "cell_type": "code",
   "execution_count": null,
   "metadata": {},
   "outputs": [],
   "source": [
    "I.zero_dm()\n",
    "I.Nframes = 10\n",
    "I.subtract_dark = True\n",
    "I.return_ni = True\n",
    "\n",
    "ref_coro_im = I.snap()\n",
    "print(xp.mean(ref_coro_im[control_mask]))\n",
    "imshow3(ref_coro_im, control_mask, control_mask * ref_coro_im,\n",
    "        lognorm1=True, lognorm3=True, pxscl=I.psf_pixelscale_lamD)\n",
    "lina.utils.save_fits(f'data/{today}_ref_coro_im.fits', ref_coro_im)"
   ]
  },
  {
   "cell_type": "code",
   "execution_count": null,
   "metadata": {},
   "outputs": [],
   "source": [
    "reload(lina.utils)\n",
    "probe_iwa = 2\n",
    "probe_owa = 14\n",
    "probe_mask = lina.utils.create_annular_focal_plane_mask(I.npsf, I.psf_pixelscale_lamD, probe_iwa, probe_owa, edge=probe_iwa)\n",
    "imshow1(probe_mask, pxscl=I.psf_pixelscale_lamD)\n",
    "probe_modes = lina.utils.create_fourier_probes(xp.array(I.dm_mask), I.npsf, I.psf_pixelscale_lamD, probe_iwa, probe_owa, \n",
    "                                               fourier_sampling=0.75, \n",
    "                                                shifts=None, \n",
    "                                                nprobes=2,\n",
    "                                                use_weighting=True, \n",
    "                                                plot=True,\n",
    "                                               )\n",
    "# for i in range(probe_modes.shape[0]):\n",
    "#     probe_modes[i] = xp.rot90(probe_modes[i])"
   ]
  },
  {
   "cell_type": "code",
   "execution_count": null,
   "metadata": {},
   "outputs": [],
   "source": [
    "reload(lina.utils)"
   ]
  },
  {
   "cell_type": "code",
   "execution_count": null,
   "metadata": {},
   "outputs": [],
   "source": [
    "reload(lina.utils)\n",
    "probe_iwa = 2\n",
    "probe_owa = 13\n",
    "fourier_modes, fs = lina.utils.create_fourier_modes(xp.array(I.dm_mask), I.npsf, I.psf_pixelscale_lamD, probe_iwa, probe_owa, \n",
    "                                                    fourier_sampling=1,\n",
    "                                                    return_fs=True,\n",
    "                                                    # plot=True,\n",
    "                                                    )\n",
    "i = 108\n",
    "imshow3(fourier_modes[i], fourier_modes[i+1], fourier_modes[i]-fourier_modes[i+1])\n",
    "print(fs.shape, fourier_modes.shape)\n",
    "\n",
    "patches = []\n",
    "for f in fs:\n",
    "    center = (f[0], f[1])\n",
    "    radius = 0.2\n",
    "    patches.append(Circle(center, radius, fill=True, color='g'))\n",
    "    \n",
    "imshow1(ref_coro_im*control_mask, lognorm=True, pxscl=I.psf_pixelscale_lamD, patches=patches, grid=True)"
   ]
  },
  {
   "cell_type": "code",
   "execution_count": null,
   "metadata": {},
   "outputs": [],
   "source": [
    "reload(lina.iefc)\n",
    "\n",
    "I.Nframes = 10\n",
    "I.subtract_dark = False\n",
    "I.return_ni = True\n",
    "diff_ims = lina.iefc.take_measurement(I, probe_modes, 5e-9, plot=True)\n",
    "diff_ims *= control_mask\n",
    "imshow2(diff_ims[0], diff_ims[1])\n",
    "# imshow3(diff_ims[0], diff_ims[1], diff_ims[2])"
   ]
  },
  {
   "cell_type": "code",
   "execution_count": null,
   "metadata": {},
   "outputs": [],
   "source": [
    "reload(lina.utils)\n",
    "calib_modes = lina.utils.create_hadamard_modes(xp.array(I.dm_mask))\n",
    "imshow1(calib_modes[8])\n"
   ]
  },
  {
   "cell_type": "code",
   "execution_count": null,
   "metadata": {},
   "outputs": [],
   "source": [
    "reload(scoobi.utils)\n",
    "oversamp = 4\n",
    "\n",
    "had_modes = xp.array(calib_modes)\n",
    "ft_modes = []\n",
    "for i in range(calib_modes.shape[0]//2):\n",
    "    had_mode = had_modes[i,:I.Nact**2].reshape(I.Nact, I.Nact)\n",
    "    ft_modes.append(xp.fft.fftshift(xp.fft.fft2(xp.fft.ifftshift(scoobi.utils.pad_or_crop(had_mode, I.Nact*oversamp)))))\n",
    "mode_freqs = xp.abs(xp.array(ft_modes))\n",
    "\n",
    "mode_freq_mask_pxscl = 1/oversamp\n",
    "x = (xp.linspace(-I.Nact*oversamp//2, I.Nact*oversamp//2-1, I.Nact*oversamp) + 1/2)*mode_freq_mask_pxscl\n",
    "x,y = xp.meshgrid(x,x)\n",
    "r = xp.sqrt(x**2+y**2)\n",
    "mode_freq_mask = (r>2.5)*(r<12)\n",
    "imshow1(mode_freq_mask)\n",
    "\n",
    "sum_vals = []\n",
    "max_vals = []\n",
    "for i in range(calib_modes.shape[0]//2):\n",
    "    sum_vals.append(xp.sum(mode_freqs[i, mode_freq_mask]))\n",
    "    max_vals.append(xp.max(mode_freqs[i, mode_freq_mask]**2))\n",
    "\n",
    "biggest_sum = xp.max(xp.array(sum_vals))\n",
    "biggest_max = xp.max(xp.array(max_vals))\n",
    "\n",
    "scale_factors = []\n",
    "for i in range(calib_modes.shape[0]//2):\n",
    "    scale_factors.append((biggest_max/max_vals[i])**(1/6))\n",
    "    # scale_factors.append((biggest_sum/sum_vals[i])**(1/2))\n",
    "scale_factors = ensure_np_array(xp.array(scale_factors))\n",
    "# scale_factors[scale_factors>2] = 2\n",
    "# scale_factors[scale_factors<1/2] = 1/2\n",
    "\n",
    "scale_factors = np.concatenate([scale_factors,scale_factors])\n",
    "print(scale_factors.shape)\n",
    "\n",
    "scale_thresh = 4\n",
    "scale_factors[scale_factors>scale_thresh] = scale_thresh\n",
    "print(scale_factors[8:12])"
   ]
  },
  {
   "cell_type": "code",
   "execution_count": null,
   "metadata": {},
   "outputs": [],
   "source": [
    "1.1**(1/4)"
   ]
  },
  {
   "cell_type": "code",
   "execution_count": 112,
   "metadata": {},
   "outputs": [],
   "source": [
    "I.zero_dm()"
   ]
  },
  {
   "cell_type": "code",
   "execution_count": null,
   "metadata": {},
   "outputs": [],
   "source": [
    "reload(lina.iefc)\n",
    "I.zero_dm()\n",
    "\n",
    "probe_amp = 5e-9\n",
    "calib_amp = 2.5e-9\n",
    "\n",
    "I.Nframes = 10\n",
    "I.return_ni = True\n",
    "I.subtract_dark = False\n",
    "I.dm_delay = I.texp * 3\n",
    "print(I.dm_delay)\n",
    "\n",
    "time.sleep(2)\n",
    "response_matrix, response_cube = lina.iefc.calibrate(I, control_mask, \n",
    "                                                     probe_amp, probe_modes, \n",
    "                                                     calib_amp, calib_modes, scale_factors=scale_factors, \n",
    "                                                    #  calib_amp, calib_modes[100:110], \n",
    "                                                    #  scale_factors=scale_factors[100:110], \n",
    "                                                    #  calib_amp, calib_modes[8:12], \n",
    "                                                    #  scale_factors=scale_factors[8:12], \n",
    "                                                     return_all=True,\n",
    "                                                     )"
   ]
  },
  {
   "cell_type": "code",
   "execution_count": null,
   "metadata": {},
   "outputs": [],
   "source": [
    "dm_response_map = xp.sqrt(xp.mean(xp.square(response_matrix.dot(calib_modes.reshape(1024, -1))), axis=0))\n",
    "dm_response_map = dm_response_map.reshape(I.Nact,I.Nact) / xp.max(dm_response_map)\n",
    "imshow1(dm_response_map, 'DM RMS Actuator Responses', lognorm=True, vmin=1e-2)"
   ]
  },
  {
   "cell_type": "code",
   "execution_count": null,
   "metadata": {},
   "outputs": [],
   "source": [
    "dm_response_map = xp.sqrt(xp.mean(xp.square(response_matrix.dot(calib_modes.reshape(1024, -1))), axis=0))\n",
    "dm_response_map = dm_response_map.reshape(I.Nact,I.Nact) / xp.max(dm_response_map)\n",
    "imshow1(dm_response_map, 'DM RMS Actuator Responses', lognorm=True, vmin=1e-2)"
   ]
  },
  {
   "cell_type": "code",
   "execution_count": null,
   "metadata": {},
   "outputs": [],
   "source": [
    "lina.utils.save_fits(f'data/{today}_iefc_hadamard_jac.fits', response_matrix)\n",
    "lina.utils.save_fits(f'data/{today}_iefc_hadamard_jac_cube.fits', response_cube)\n",
    "lina.utils.save_fits(f'data/{today}_iefc_probes.fits', probe_modes)\n",
    "\n",
    "# lina.utils.save_fits('../data/iefc_fourier_jac_20240806.fits', response_matrix)\n",
    "# lina.utils.save_fits('../data/iefc_fourier_jac_cube_20240806.fits', response_cube)"
   ]
  },
  {
   "cell_type": "code",
   "execution_count": 116,
   "metadata": {},
   "outputs": [],
   "source": [
    "I.zero_dm()\n",
    "all_ims = []\n",
    "all_commands = []"
   ]
  },
  {
   "cell_type": "code",
   "execution_count": 79,
   "metadata": {},
   "outputs": [],
   "source": [
    "I.set_dm(all_commands[-1])"
   ]
  },
  {
   "cell_type": "code",
   "execution_count": null,
   "metadata": {},
   "outputs": [],
   "source": [
    "reload(lina.utils)\n",
    "reload(lina.iefc)\n",
    "\n",
    "cm = lina.utils.beta_reg(response_matrix, -2.5)\n",
    "# cm = lina.utils.beta_reg(response_matrix, -3.5)\n",
    "# cm = lina.utils.beta_reg(response_matrix, -5)\n",
    "\n",
    "probe_amp = 5e-9\n",
    "probe_amp = 4e-9\n",
    "# probe_amp = 3e-9\n",
    "probe_amp = 2.5e-9\n",
    "# probe_amp = 2e-9\n",
    "probe_amp = 1.5e-9\n",
    "probe_amp = 1e-9\n",
    "\n",
    "I.Nframes = 10\n",
    "I.return_ni = True\n",
    "I.dm_delay = 3*I.texp\n",
    "print(I.dm_delay)\n",
    "\n",
    "all_ims, all_commands = lina.iefc.run(I,\n",
    "                                        cm,\n",
    "                                        probe_modes, probe_amp, \n",
    "                                        calib_modes,\n",
    "                                        control_mask,\n",
    "                                        num_iterations=3,\n",
    "                                        loop_gain=0.5, \n",
    "                                        leakage=0.0,\n",
    "                                        plot_current=True,\n",
    "                                        plot_all=True,\n",
    "                                        plot_probes=False,\n",
    "                                        plot_radial_contrast=False,\n",
    "                                        all_ims=all_ims,\n",
    "                                        all_commands=all_commands,\n",
    "                                        )"
   ]
  },
  {
   "cell_type": "code",
   "execution_count": null,
   "metadata": {},
   "outputs": [],
   "source": [
    "I.set_zwo_exp_time(0.02, client0, delay=1)\n",
    "I.set_zwo_gain(120, client0)\n",
    "I.Nframes = 10"
   ]
  },
  {
   "cell_type": "code",
   "execution_count": 128,
   "metadata": {},
   "outputs": [],
   "source": [
    "reload(scoobi)\n",
    "scoobi.move_block_in(client0)"
   ]
  },
  {
   "cell_type": "code",
   "execution_count": 130,
   "metadata": {},
   "outputs": [],
   "source": [
    "reload(scoobi)\n",
    "scoobi.move_block_out(client0)"
   ]
  },
  {
   "cell_type": "code",
   "execution_count": null,
   "metadata": {},
   "outputs": [],
   "source": [
    "I.Nframes = 50\n",
    "I.subtract_dark = False\n",
    "I.return_ni = False\n",
    "dark_frame = I.snap()\n",
    "imshow1(dark_frame)\n",
    "\n",
    "I.df = copy.copy(dark_frame)"
   ]
  },
  {
   "cell_type": "code",
   "execution_count": null,
   "metadata": {},
   "outputs": [],
   "source": [
    "I.Nframes = 10\n",
    "I.subtract_dark = True\n",
    "I.return_ni = True\n",
    "\n",
    "coro_im = I.snap()\n",
    "\n",
    "print(xp.mean(coro_im[control_mask]))\n",
    "imshow2(coro_im, control_mask * coro_im, grid=True, lognorm=True, pxscl=I.psf_pixelscale_lamD)"
   ]
  },
  {
   "cell_type": "code",
   "execution_count": null,
   "metadata": {},
   "outputs": [],
   "source": [
    "new_iwa = 3\n",
    "new_owa = 10\n",
    "new_control_mask = lina.utils.create_annular_focal_plane_mask(I.npsf, I.psf_pixelscale_lamD, new_iwa, new_owa, edge=new_iwa, rotation=rotation)\n",
    "imshow1(new_control_mask)"
   ]
  },
  {
   "cell_type": "code",
   "execution_count": null,
   "metadata": {},
   "outputs": [],
   "source": [
    "new_response_matrix = response_cube[:, :, new_control_mask.ravel()].reshape(1024, -1).T\n",
    "new_response_matrix.shape"
   ]
  },
  {
   "cell_type": "code",
   "execution_count": null,
   "metadata": {},
   "outputs": [],
   "source": [
    "reload(lina.utils)\n",
    "reload(lina.iefc)\n",
    "\n",
    "cm = lina.utils.beta_reg(new_response_matrix, -2.5)\n",
    "# cm = lina.utils.beta_reg(new_response_matrix, -3.5)\n",
    "# cm = lina.utils.beta_reg(new_response_matrix, -5)\n",
    "\n",
    "probe_amp = 5e-9\n",
    "# probe_amp = 4e-9\n",
    "probe_amp = 2.5e-9\n",
    "# probe_amp = 2e-9\n",
    "probe_amp = 1.5e-9\n",
    "probe_amp = 1e-9\n",
    "probe_amp = 0.75e-9\n",
    "# probe_amp = 0.5e-9\n",
    "\n",
    "I.Nframes = 10\n",
    "I.return_ni = True\n",
    "I.dm_delay = 3*I.texp\n",
    "print(I.dm_delay)\n",
    "\n",
    "all_ims, all_commands = lina.iefc.run(I,\n",
    "                                        cm,\n",
    "                                        probe_modes, probe_amp, \n",
    "                                        calib_modes,\n",
    "                                        new_control_mask,\n",
    "                                        num_iterations=3,\n",
    "                                        loop_gain=0.5, \n",
    "                                        leakage=0.0,\n",
    "                                        plot_current=True,\n",
    "                                        plot_all=True,\n",
    "                                        plot_probes=False,\n",
    "                                        plot_radial_contrast=False,\n",
    "                                        all_ims=all_ims, \n",
    "                                        all_commands=all_commands,\n",
    "                                        )"
   ]
  },
  {
   "cell_type": "code",
   "execution_count": null,
   "metadata": {},
   "outputs": [],
   "source": [
    "lina.utils.save_fits(f'data/{today}_iefc_hadamard_ims.fits', xp.array(all_ims))\n",
    "lina.utils.save_fits(f'data/{today}_iefc_hadamard_commands.fits', xp.array(all_commands))\n",
    "lina.utils.save_fits(f'data/{today}_iefc_control_mask_1.fits', control_mask.astype(int))\n",
    "lina.utils.save_fits(f'data/{today}_iefc_control_mask_2.fits', new_control_mask.astype(int))\n"
   ]
  },
  {
   "cell_type": "code",
   "execution_count": null,
   "metadata": {},
   "outputs": [],
   "source": [
    "I.set_zwo_exp_time(0.05, client0, delay=1)\n",
    "I.set_zwo_gain(120, client0)\n",
    "I.Nframes = 10"
   ]
  },
  {
   "cell_type": "code",
   "execution_count": 166,
   "metadata": {},
   "outputs": [],
   "source": [
    "reload(scoobi)\n",
    "scoobi.move_block_in(client0)"
   ]
  },
  {
   "cell_type": "code",
   "execution_count": 167,
   "metadata": {},
   "outputs": [],
   "source": [
    "reload(scoobi)\n",
    "scoobi.move_block_out(client0)"
   ]
  },
  {
   "cell_type": "code",
   "execution_count": null,
   "metadata": {},
   "outputs": [],
   "source": [
    "I.Nframes = 50\n",
    "I.subtract_dark = False\n",
    "I.return_ni = False\n",
    "dark_frame = I.snap()\n",
    "imshow1(dark_frame)\n",
    "\n",
    "I.df = copy.copy(dark_frame)"
   ]
  },
  {
   "cell_type": "code",
   "execution_count": null,
   "metadata": {},
   "outputs": [],
   "source": [
    "I.Nframes = 10\n",
    "I.subtract_dark = True\n",
    "I.return_ni = True\n",
    "\n",
    "coro_im = I.snap()\n",
    "\n",
    "print(xp.mean(coro_im[new_control_mask]))\n",
    "imshow2(coro_im, new_control_mask * coro_im,\n",
    "        lognorm=True, pxscl=I.psf_pixelscale_lamD)"
   ]
  }
 ],
 "metadata": {
  "kernelspec": {
   "display_name": "gpu310env",
   "language": "python",
   "name": "python3"
  },
  "language_info": {
   "codemirror_mode": {
    "name": "ipython",
    "version": 3
   },
   "file_extension": ".py",
   "mimetype": "text/x-python",
   "name": "python",
   "nbconvert_exporter": "python",
   "pygments_lexer": "ipython3",
   "version": "undefined.undefined.undefined"
  }
 },
 "nbformat": 4,
 "nbformat_minor": 2
}
