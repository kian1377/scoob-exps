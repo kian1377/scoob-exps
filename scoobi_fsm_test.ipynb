{
 "cells": [
  {
   "cell_type": "code",
   "execution_count": 1,
   "metadata": {},
   "outputs": [
    {
     "name": "stderr",
     "output_type": "stream",
     "text": [
      "/opt/conda/envs/km310env/lib/python3.10/site-packages/cupyx/jit/_interface.py:173: FutureWarning: cupyx.jit.rawkernel is experimental. The interface can change in the future.\n",
      "  cupy._util.experimental('cupyx.jit.rawkernel')\n"
     ]
    }
   ],
   "source": [
    "import numpy as np\n",
    "import astropy.units as u\n",
    "from astropy.io import fits\n",
    "import time \n",
    "from importlib import reload\n",
    "import copy\n",
    "from datetime import datetime\n",
    "today = int(datetime.today().strftime('%Y%m%d'))\n",
    "from IPython.display import clear_output\n",
    "\n",
    "import matplotlib.pyplot as plt\n",
    "from matplotlib.colors import LogNorm\n",
    "from matplotlib.patches import Circle, Rectangle\n",
    "\n",
    "import scoobi\n",
    "from scoobi.math_module import xp, _scipy, ensure_np_array\n",
    "from scoobi.imshows import imshow1, imshow2, imshow3\n",
    "import scoobi.scoobi as scoobi\n",
    "\n",
    "import lina\n",
    "\n",
    "import purepyindi\n",
    "from purepyindi import INDIClient\n",
    "import purepyindi2\n",
    "from purepyindi2 import IndiClient\n",
    "\n",
    "client0 = INDIClient('localhost', 7624)\n",
    "client0.start()\n",
    "client = IndiClient()\n",
    "client.connect()\n",
    "client.get_properties()\n",
    "\n",
    "def restart_clients():\n",
    "    client0 = INDIClient('localhost', 7624)\n",
    "    client0.start()\n",
    "\n",
    "    client = IndiClient()\n",
    "    client.connect()\n",
    "    client.get_properties()"
   ]
  },
  {
   "cell_type": "code",
   "execution_count": 2,
   "metadata": {},
   "outputs": [
    {
     "data": {
      "text/latex": [
       "$10.392305 \\; \\mathrm{}$"
      ],
      "text/plain": [
       "<Quantity 10.39230485>"
      ]
     },
     "execution_count": 2,
     "metadata": {},
     "output_type": "execute_result"
    }
   ],
   "source": [
    "12*np.cos(30*u.degree)"
   ]
  },
  {
   "cell_type": "code",
   "execution_count": null,
   "metadata": {},
   "outputs": [],
   "source": [
    "reload(scoobi)\n",
    "xc, yc = (4320, 3080)\n",
    "npsf = 256\n",
    "scoobi.set_zwo_roi(xc, yc, npsf, client0)"
   ]
  },
  {
   "cell_type": "code",
   "execution_count": null,
   "metadata": {},
   "outputs": [],
   "source": [
    "reload(scoobi)\n",
    "I = scoobi.SCOOBI(scicam_channel='camsci', dm_channel='dm00disp05')"
   ]
  },
  {
   "cell_type": "code",
   "execution_count": null,
   "metadata": {},
   "outputs": [],
   "source": []
  },
  {
   "cell_type": "code",
   "execution_count": null,
   "metadata": {},
   "outputs": [],
   "source": []
  }
 ],
 "metadata": {
  "kernelspec": {
   "display_name": "km310env",
   "language": "python",
   "name": "python3"
  },
  "language_info": {
   "codemirror_mode": {
    "name": "ipython",
    "version": 3
   },
   "file_extension": ".py",
   "mimetype": "text/x-python",
   "name": "python",
   "nbconvert_exporter": "python",
   "pygments_lexer": "ipython3",
   "version": "3.10.14"
  }
 },
 "nbformat": 4,
 "nbformat_minor": 2
}
